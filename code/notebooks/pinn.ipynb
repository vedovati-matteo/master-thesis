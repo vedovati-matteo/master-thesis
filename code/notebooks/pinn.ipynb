{
 "cells": [
  {
   "cell_type": "markdown",
   "metadata": {},
   "source": [
    "# Basic PINN implementation"
   ]
  },
  {
   "cell_type": "code",
   "execution_count": 1,
   "metadata": {},
   "outputs": [],
   "source": [
    "import torch.nn as nn\n",
    "import torch.optim as optim\n",
    "from torch import vmap\n",
    "from torch.func import jacrev\n",
    "import torch\n",
    "from compute_error import compute_error_norms\n",
    "\n",
    "device = 'cuda' if torch.cuda.is_available() else 'cpu'"
   ]
  },
  {
   "cell_type": "code",
   "execution_count": 2,
   "metadata": {},
   "outputs": [],
   "source": [
    "def ODE_1(t, y): # Exponential decay\n",
    "    # y: R^1, lambda: 0.1\n",
    "    y = torch.tensor(y, dtype=torch.float32).to(device)\n",
    "    return -0.1 * y\n",
    "\n",
    "ODE_1_y0 = torch.tensor([2.0]).to(device)\n",
    "\n",
    "def ODE_2(t, y): # Van der Pol Oscillator\n",
    "    # y: R^2, mu: 2\n",
    "    if not isinstance(y, torch.Tensor):\n",
    "        y = torch.tensor(y, dtype=torch.float32).to(device)\n",
    "    \n",
    "    x = y[0]\n",
    "    dy = y[1]\n",
    "    # Parameters\n",
    "    omega = 1.0\n",
    "    zeta = 0.5\n",
    "    \n",
    "    dydt = torch.stack([dy, -omega**2 * x - 2 * zeta * omega * dy]).to(device)\n",
    "    return dydt\n",
    "\n",
    "ODE_2_y0 = torch.tensor([2.0, 0.0]).to(device)"
   ]
  },
  {
   "cell_type": "code",
   "execution_count": 3,
   "metadata": {},
   "outputs": [],
   "source": [
    "class LinearNN(nn.Module):\n",
    "    def __init__(\n",
    "        self,\n",
    "        num_inputs,\n",
    "        num_layers,\n",
    "        num_neurons,\n",
    "        num_outputs,\n",
    "        act: nn.Module = nn.Tanh(),\n",
    "    ) -> None:\n",
    "        \"\"\"Basic neural network architecture with linear layers\n",
    "        \n",
    "        Args:\n",
    "            num_inputs (int, optional): the dimensionality of the input tensor\n",
    "            num_layers (int, optional): the number of hidden layers\n",
    "            num_neurons (int, optional): the number of neurons for each hidden layer\n",
    "            act (nn.Module, optional): the non-linear activation function to use for stitching\n",
    "                linear layers togeter\n",
    "        \"\"\"\n",
    "        super().__init__()\n",
    "        \n",
    "        self.num_inputs = num_inputs\n",
    "        self.num_neurons = num_neurons\n",
    "        self.num_layers = num_layers\n",
    "\n",
    "        layers = []\n",
    "\n",
    "        # input layer\n",
    "        layers.append(nn.Linear(self.num_inputs, num_neurons))\n",
    "\n",
    "        # hidden layers with linear layer and activation\n",
    "        for _ in range(num_layers):\n",
    "            layers.extend([nn.Linear(num_neurons, num_neurons), act])\n",
    "\n",
    "        # output layer\n",
    "        layers.append(nn.Linear(num_neurons, num_outputs))\n",
    "\n",
    "        # build the network\n",
    "        self.network = nn.Sequential(*layers)\n",
    "\n",
    "    def forward(self, x: torch.Tensor) -> torch.Tensor:\n",
    "        return self.network(x.reshape(-1, 1)).squeeze()"
   ]
  },
  {
   "cell_type": "code",
   "execution_count": 4,
   "metadata": {},
   "outputs": [
    {
     "data": {
      "text/plain": [
       "'\\n\\n# Assuming T is defined somewhere\\nT = 10.0\\n\\n# Sample input tensor with requires_grad=True\\nt = torch.tensor([1, 2, 3, 4, 5], dtype=torch.float32, requires_grad=True)\\n\\n# Define the function f\\ndef f(x):\\n    y1 = x**2\\n    y2 = x**3\\n    return torch.stack([y1, y2], dim=-1)  # Shape [2]\\n\\n# Define the Jacobian function for a single input\\ndef jacobian_fn(x):\\n    return jacrev(model)(x)\\n\\n# Use vmap to compute Jacobians for each element in the batch\\nbatched_jacobian_fn = vmap(jacobian_fn)\\n\\n\\n\\njacobians = batched_jacobian_fn(t)\\n\\n# The result should be of shape [batch_size, 2, 1] (since each element has 2 outputs and 1 input)\\n# We want the gradient which is the Jacobian in this case, squeeze the last dimension\\ngradients = jacobians.squeeze(-1)\\n\\n# The result should be of shape [batch_size, 2]\\nprint(gradients)\\n'"
      ]
     },
     "execution_count": 4,
     "metadata": {},
     "output_type": "execute_result"
    }
   ],
   "source": [
    "\"\"\"\n",
    "\n",
    "# Assuming T is defined somewhere\n",
    "T = 10.0\n",
    "\n",
    "# Sample input tensor with requires_grad=True\n",
    "t = torch.tensor([1, 2, 3, 4, 5], dtype=torch.float32, requires_grad=True)\n",
    "\n",
    "# Define the function f\n",
    "def f(x):\n",
    "    y1 = x**2\n",
    "    y2 = x**3\n",
    "    return torch.stack([y1, y2], dim=-1)  # Shape [2]\n",
    "\n",
    "# Define the Jacobian function for a single input\n",
    "def jacobian_fn(x):\n",
    "    return jacrev(model)(x)\n",
    "\n",
    "# Use vmap to compute Jacobians for each element in the batch\n",
    "batched_jacobian_fn = vmap(jacobian_fn)\n",
    "\n",
    "\n",
    "\n",
    "jacobians = batched_jacobian_fn(t)\n",
    "\n",
    "# The result should be of shape [batch_size, 2, 1] (since each element has 2 outputs and 1 input)\n",
    "# We want the gradient which is the Jacobian in this case, squeeze the last dimension\n",
    "gradients = jacobians.squeeze(-1)\n",
    "\n",
    "# The result should be of shape [batch_size, 2]\n",
    "print(gradients)\n",
    "\"\"\"\n"
   ]
  },
  {
   "cell_type": "code",
   "execution_count": 4,
   "metadata": {},
   "outputs": [],
   "source": [
    "model = LinearNN(1, 4, 64, 2).to(device)\n",
    "\n",
    "# Define the Jacobian function for a single input\n",
    "def jacobian_fn(x):\n",
    "    return jacrev(model)(x)\n",
    "\n",
    "# Use vmap to compute Jacobians for each element in the batch\n",
    "batched_jacobian_fn = vmap(jacobian_fn)"
   ]
  },
  {
   "cell_type": "code",
   "execution_count": 6,
   "metadata": {},
   "outputs": [
    {
     "data": {
      "text/plain": [
       "'\\nmodel = LinearNN(1, 1, 64, 1)\\n\\ndef f(t: torch.Tensor, params: dict[str, torch.nn.Parameter]) -> torch.Tensor:\\n    return functional_call(model, params, (t, ))\\n\\ndfdx = vmap(grad(f), in_dims=(0, None))\\n\\n# use like this: grads = dfdx(t, params)\\n\\ndef compute_gradients(t: torch.Tensor, f):\\n    # Compute model output\\n    #f = model(t)  # Output shape: [batchsize, num_output_params]\\n\\n    # Initialize a tensor to hold the gradients\\n    gradients = torch.zeros_like(f)\\n\\n    # Compute the gradient for each output with respect to the input t\\n    for i in range(f.shape[1]):  # Loop over the output features\\n        grad_outputs = torch.zeros_like(f)\\n        grad_outputs[:, i] = 1.0  # Set the appropriate output to 1\\n\\n        # Compute the gradients\\n        f.backward(grad_outputs, retain_graph=True)\\n        \\n        # Collect the gradients\\n        gradients[:, i] = t.grad\\n\\n        # Clear the gradients for the next iteration\\n        t.grad.zero_()\\n\\n    return gradients\\n\\ndef compute_gradients_2(t: torch.Tensor):\\n    \\n    f = model(t)\\n    if len(f.shape) == 1:\\n        f = f[:, None]\\n    \\n    out = torch.zeros_like(f)\\n    \\n    for i in range(f.shape[0]):\\n        y = f[i, :]\\n        y_t = torch.autograd.grad(\\n                y, t[i], \\n                grad_outputs=torch.ones_like(y),\\n                retain_graph=True,\\n                create_graph=True,\\n                allow_unused=True\\n            )[0]\\n        print(y_t.shape)\\n        out[i, :] = y_t\\n    \\n    t.grad.zero_()\\n    \\n    return out\\n'"
      ]
     },
     "execution_count": 6,
     "metadata": {},
     "output_type": "execute_result"
    }
   ],
   "source": [
    "\"\"\"\n",
    "model = LinearNN(1, 1, 64, 1)\n",
    "\n",
    "def f(t: torch.Tensor, params: dict[str, torch.nn.Parameter]) -> torch.Tensor:\n",
    "    return functional_call(model, params, (t, ))\n",
    "\n",
    "dfdx = vmap(grad(f), in_dims=(0, None))\n",
    "\n",
    "# use like this: grads = dfdx(t, params)\n",
    "\n",
    "def compute_gradients(t: torch.Tensor, f):\n",
    "    # Compute model output\n",
    "    #f = model(t)  # Output shape: [batchsize, num_output_params]\n",
    "\n",
    "    # Initialize a tensor to hold the gradients\n",
    "    gradients = torch.zeros_like(f)\n",
    "\n",
    "    # Compute the gradient for each output with respect to the input t\n",
    "    for i in range(f.shape[1]):  # Loop over the output features\n",
    "        grad_outputs = torch.zeros_like(f)\n",
    "        grad_outputs[:, i] = 1.0  # Set the appropriate output to 1\n",
    "\n",
    "        # Compute the gradients\n",
    "        f.backward(grad_outputs, retain_graph=True)\n",
    "        \n",
    "        # Collect the gradients\n",
    "        gradients[:, i] = t.grad\n",
    "\n",
    "        # Clear the gradients for the next iteration\n",
    "        t.grad.zero_()\n",
    "\n",
    "    return gradients\n",
    "\n",
    "def compute_gradients_2(t: torch.Tensor):\n",
    "    \n",
    "    f = model(t)\n",
    "    if len(f.shape) == 1:\n",
    "        f = f[:, None]\n",
    "    \n",
    "    out = torch.zeros_like(f)\n",
    "    \n",
    "    for i in range(f.shape[0]):\n",
    "        y = f[i, :]\n",
    "        y_t = torch.autograd.grad(\n",
    "                y, t[i], \n",
    "                grad_outputs=torch.ones_like(y),\n",
    "                retain_graph=True,\n",
    "                create_graph=True,\n",
    "                allow_unused=True\n",
    "            )[0]\n",
    "        print(y_t.shape)\n",
    "        out[i, :] = y_t\n",
    "    \n",
    "    t.grad.zero_()\n",
    "    \n",
    "    return out\n",
    "\"\"\""
   ]
  },
  {
   "cell_type": "code",
   "execution_count": 5,
   "metadata": {},
   "outputs": [],
   "source": [
    "ODE_batch = vmap(ODE_2, in_dims=0)"
   ]
  },
  {
   "cell_type": "code",
   "execution_count": 6,
   "metadata": {},
   "outputs": [],
   "source": [
    "def loss_fn(t: torch.Tensor):\n",
    "    # INTERIOR LOSS\n",
    "    # NN grads\n",
    "    y = model(t)\n",
    "    \n",
    "    jacobians = batched_jacobian_fn(t)\n",
    "    dydt = jacobians.squeeze(-1)\n",
    "    # ODE actual grads\n",
    "    ode_grads = ODE_batch(t, y)\n",
    "    interior = dydt - ode_grads\n",
    "    \n",
    "    # BOUNDARY LOSS\n",
    "    y_0 = model(torch.tensor([0.0]).to(device))\n",
    "    \n",
    "    boundary = y_0 - ODE_2_y0\n",
    "    \n",
    "    lambda_i = 1.0\n",
    "    lambda_b = 0.5\n",
    "    \n",
    "    loss = nn.MSELoss(reduction='mean')\n",
    "    interior_loss = loss(interior, torch.zeros_like(interior))\n",
    "    boundary_loss = loss(boundary, torch.zeros_like(boundary))\n",
    "    \n",
    "    return lambda_i * interior_loss + lambda_b * boundary_loss\n",
    "    "
   ]
  },
  {
   "cell_type": "code",
   "execution_count": 7,
   "metadata": {},
   "outputs": [
    {
     "name": "stderr",
     "output_type": "stream",
     "text": [
      "/home/vedo/miniconda3/envs/thesis/lib/python3.12/site-packages/torch/autograd/graph.py:744: UserWarning: Attempting to run cuBLAS, but there was no current CUDA context! Attempting to set the primary context... (Triggered internally at /home/conda/feedstock_root/build_artifacts/libtorch_1718580740865/work/aten/src/ATen/cuda/CublasHandlePool.cpp:135.)\n",
      "  return Variable._execution_engine.run_backward(  # Calls into the C++ engine to run the backward pass\n"
     ]
    },
    {
     "name": "stdout",
     "output_type": "stream",
     "text": [
      "Iteration 0, Loss: 1.0260087251663208\n",
      "Iteration 10, Loss: 0.20414438843727112\n",
      "Iteration 20, Loss: 0.02926267310976982\n",
      "Iteration 30, Loss: 0.012361539527773857\n",
      "Iteration 40, Loss: 0.007038889452815056\n",
      "Iteration 50, Loss: 0.005463734269142151\n",
      "Iteration 60, Loss: 0.004327794071286917\n",
      "Iteration 70, Loss: 0.003135466715320945\n",
      "Iteration 80, Loss: 0.0018758737714961171\n",
      "Iteration 90, Loss: 0.0019351104274392128\n",
      "Iteration 100, Loss: 0.002128442283719778\n",
      "Iteration 110, Loss: 0.0009449758799746633\n",
      "Iteration 120, Loss: 0.0022004800848662853\n",
      "Iteration 130, Loss: 0.000777187931817025\n",
      "Iteration 140, Loss: 0.0007436535088345408\n",
      "Iteration 150, Loss: 0.0004923125961795449\n",
      "Iteration 160, Loss: 0.04161795601248741\n",
      "Iteration 170, Loss: 0.014877396635711193\n",
      "Iteration 180, Loss: 0.0023373649455606937\n",
      "Iteration 190, Loss: 0.0035740002058446407\n",
      "Iteration 200, Loss: 0.0021638802718371153\n",
      "Iteration 210, Loss: 0.00149965297896415\n",
      "Iteration 220, Loss: 0.0014704617206007242\n",
      "Iteration 230, Loss: 0.0017967626918107271\n",
      "Iteration 240, Loss: 0.0011985485907644033\n",
      "Iteration 250, Loss: 0.0005943249561823905\n",
      "Iteration 260, Loss: 0.0007537598721683025\n",
      "Iteration 270, Loss: 0.00048648391384631395\n",
      "Iteration 280, Loss: 0.0004953346215188503\n",
      "Iteration 290, Loss: 0.000333276460878551\n",
      "Iteration 300, Loss: 0.0003159184707328677\n",
      "Iteration 310, Loss: 0.000335335498675704\n",
      "Iteration 320, Loss: 0.00033717459882609546\n",
      "Iteration 330, Loss: 0.0005449537420645356\n",
      "Iteration 340, Loss: 0.0003503720217850059\n",
      "Iteration 350, Loss: 0.0006759814568795264\n",
      "Iteration 360, Loss: 0.0004491919535212219\n",
      "Iteration 370, Loss: 0.0015694915782660246\n",
      "Iteration 380, Loss: 0.000595385383348912\n",
      "Iteration 390, Loss: 0.0005986838950775564\n",
      "Iteration 400, Loss: 0.0003663492971099913\n",
      "Iteration 410, Loss: 0.0015265203546732664\n",
      "Iteration 420, Loss: 0.0017276826547458768\n",
      "Iteration 430, Loss: 0.003151493612676859\n",
      "Iteration 440, Loss: 0.0007249864283949137\n",
      "Iteration 450, Loss: 0.0006911720847710967\n",
      "Iteration 460, Loss: 0.0008832068415358663\n",
      "Iteration 470, Loss: 0.00039845495484769344\n",
      "Iteration 480, Loss: 0.00046209158608689904\n",
      "Iteration 490, Loss: 0.00029069706215523183\n"
     ]
    }
   ],
   "source": [
    "batch_size = 128  # number of colocation points to sample in the domain\n",
    "num_iter = 500  # maximum number of iterations\n",
    "learning_rate = 1e-2  # learning rate\n",
    "weight_decay = 1e-4  # weight decay\n",
    "T = 10  # final time\n",
    "\n",
    "optimzier = optim.Adam(model.parameters(), lr=learning_rate, weight_decay=weight_decay)\n",
    "\n",
    "\n",
    "for i in range(num_iter):\n",
    "    t = (torch.rand(batch_size) * T).to(device) \n",
    "    t.to(device)\n",
    "    t.requires_grad_(True)\n",
    "    \n",
    "    loss = loss_fn(t)\n",
    "    loss.backward()\n",
    "    optimzier.step()\n",
    "    optimzier.zero_grad()\n",
    "    if i % 10 == 0:\n",
    "        print(f\"Iteration {i}, Loss: {loss.item()}\")"
   ]
  },
  {
   "cell_type": "code",
   "execution_count": 8,
   "metadata": {},
   "outputs": [],
   "source": [
    "import numpy as np\n",
    "import matplotlib.pyplot as plt"
   ]
  },
  {
   "cell_type": "code",
   "execution_count": 9,
   "metadata": {},
   "outputs": [],
   "source": [
    "# Solve the ODE system numerically\n",
    "from scipy.integrate import solve_ivp"
   ]
  },
  {
   "cell_type": "code",
   "execution_count": 10,
   "metadata": {},
   "outputs": [],
   "source": [
    "def ODE_1_np(t, y):\n",
    "    dydt = ODE_1(t, y)\n",
    "    return dydt.cpu().numpy()\n",
    "\n",
    "\n",
    "def ODE_2_np(t,y):\n",
    "    dydt = ODE_2(t, y)\n",
    "    return dydt.cpu().numpy()"
   ]
  },
  {
   "cell_type": "code",
   "execution_count": 11,
   "metadata": {},
   "outputs": [],
   "source": [
    "sol = solve_ivp(ODE_2_np, (0, T), ODE_2_y0.cpu().numpy(), method='RK45', t_eval=np.linspace(0, T, 100))"
   ]
  },
  {
   "cell_type": "code",
   "execution_count": 12,
   "metadata": {},
   "outputs": [],
   "source": [
    "t = torch.linspace(0, T, 100).view(-1, 1).to(device)\n",
    "\n",
    "t_np = t.cpu().detach().numpy()\n",
    "y_pred_np = model(t).cpu().detach().numpy()\n"
   ]
  },
  {
   "cell_type": "code",
   "execution_count": 13,
   "metadata": {},
   "outputs": [
    {
     "data": {
      "image/png": "[encoded data removed]",
      "text/plain": [
       "<Figure size 640x480 with 1 Axes>"
      ]
     },
     "metadata": {},
     "output_type": "display_data"
    }
   ],
   "source": [
    "num_y = y_pred_np.shape[1]\n",
    "for i in range(num_y):\n",
    "    plt.plot(sol.t, sol.y.T[:, i], color='blue', label=f'Analytical Solution y_{i+1}')\n",
    "    plt.plot(t_np, y_pred_np[:, i], color='orange', label=f'PINN Prediction y_{i+1}')\n",
    "\n",
    "plt.xlabel('t')\n",
    "plt.ylabel('y(t)')\n",
    "plt.legend()\n",
    "plt.title('Exponential Decay: Analytical vs PINN')\n",
    "plt.show()"
   ]
  }
 ],
 "metadata": {
  "kernelspec": {
   "display_name": "thesis",
   "language": "python",
   "name": "python3"
  },
  "language_info": {
   "codemirror_mode": {
    "name": "ipython",
    "version": 3
   },
   "file_extension": ".py",
   "mimetype": "text/x-python",
   "name": "python",
   "nbconvert_exporter": "python",
   "pygments_lexer": "ipython3",
   "version": "3.12.2"
  }
 },
 "nbformat": 4,
 "nbformat_minor": 2
}
