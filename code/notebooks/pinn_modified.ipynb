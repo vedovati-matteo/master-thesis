{
 "cells": [
  {
   "cell_type": "markdown",
   "metadata": {},
   "source": [
    "# PINN with modified foward propagation\n",
    "\n",
    "Modified foward propagation for making sure to respect the initial conditions"
   ]
  },
  {
   "cell_type": "code",
   "execution_count": 1,
   "metadata": {},
   "outputs": [],
   "source": [
    "import torch.nn as nn\n",
    "import torch.optim as optim\n",
    "from torch import vmap\n",
    "from torch.func import jacrev\n",
    "import torch\n",
    "\n",
    "device = 'cuda' if torch.cuda.is_available() else 'cpu'"
   ]
  },
  {
   "cell_type": "code",
   "execution_count": 2,
   "metadata": {},
   "outputs": [],
   "source": [
    "def ODE_1(t, y): # Exponential decay\n",
    "    # y: R^1, lambda: 0.1\n",
    "    y = torch.tensor(y, dtype=torch.float32).to(device)\n",
    "    return -0.1 * y\n",
    "\n",
    "ODE_1_y0 = torch.tensor([2.0]).to(device)\n",
    "\n",
    "def ODE_2(t, y): # Van der Pol Oscillator\n",
    "    # y: R^2, mu: 2\n",
    "    if not isinstance(y, torch.Tensor):\n",
    "        y = torch.tensor(y, dtype=torch.float32).to(device)\n",
    "    \n",
    "    x = y[0]\n",
    "    dy = y[1]\n",
    "    # Parameters\n",
    "    omega = 1.0\n",
    "    zeta = 0.5\n",
    "    \n",
    "    dydt = torch.stack([dy, -omega**2 * x - 2 * zeta * omega * dy]).to(device)\n",
    "    return dydt\n",
    "\n",
    "ODE_2_y0 = torch.tensor([2.0, 0.0]).to(device)"
   ]
  },
  {
   "cell_type": "code",
   "execution_count": 3,
   "metadata": {},
   "outputs": [],
   "source": [
    "def xavier_init(m):\n",
    "    if isinstance(m, nn.Linear):\n",
    "        nn.init.xavier_normal_(m.weight)\n",
    "        if m.bias is not None:\n",
    "            nn.init.zeros_(m.bias)\n",
    "\n",
    "def he_init(m):\n",
    "    if isinstance(m, nn.Linear):\n",
    "        nn.init.kaiming_normal_(m.weight, nonlinearity='relu')\n",
    "        if m.bias is not None:\n",
    "            nn.init.zeros_(m.bias)\n",
    "\n",
    "def uniform_init(m):\n",
    "    if isinstance(m, nn.Linear):\n",
    "        nn.init.uniform_(m.weight, a=-0.1, b=0.1)\n",
    "        if m.bias is not None:\n",
    "            nn.init.zeros_(m.bias)\n",
    "\n",
    "def normal_init(m):\n",
    "    if isinstance(m, nn.Linear):\n",
    "        nn.init.normal_(m.weight, mean=0.0, std=0.02)\n",
    "        if m.bias is not None:\n",
    "            nn.init.zeros_(m.bias)"
   ]
  },
  {
   "cell_type": "code",
   "execution_count": 4,
   "metadata": {},
   "outputs": [],
   "source": [
    "class LinearNN(nn.Module):\n",
    "    def __init__(\n",
    "        self,\n",
    "        num_inputs,\n",
    "        num_layers,\n",
    "        num_neurons,\n",
    "        num_outputs,\n",
    "        y_0,\n",
    "        act: nn.Module = nn.Tanh(),\n",
    "    ) -> None:\n",
    "        \"\"\"Basic neural network architecture with linear layers\n",
    "        \n",
    "        Args:\n",
    "            num_inputs (int, optional): the dimensionality of the input tensor\n",
    "            num_layers (int, optional): the number of hidden layers\n",
    "            num_neurons (int, optional): the number of neurons for each hidden layer\n",
    "            y_0 (torch.Tensor): the initial condition for the ODE\n",
    "            act (nn.Module, optional): the non-linear activation function to use for stitching\n",
    "                linear layers togeter\n",
    "        \"\"\"\n",
    "        super().__init__()\n",
    "        \n",
    "        self.num_inputs = num_inputs\n",
    "        self.num_neurons = num_neurons\n",
    "        self.num_layers = num_layers\n",
    "        \n",
    "        self.y_0 = y_0.to(device)\n",
    "\n",
    "        layers = []\n",
    "\n",
    "        # input layer\n",
    "        layers.append(nn.Linear(self.num_inputs, num_neurons))\n",
    "\n",
    "        # hidden layers with linear layer and activation\n",
    "        for _ in range(num_layers):\n",
    "            layers.extend([nn.Linear(num_neurons, num_neurons), act])\n",
    "\n",
    "        # output layer\n",
    "        layers.append(nn.Linear(num_neurons, num_outputs))\n",
    "\n",
    "        # build the network\n",
    "        self.network = nn.Sequential(*layers)\n",
    "\n",
    "    def forward(self, x: torch.Tensor) -> torch.Tensor:\n",
    "        t = x.to(device)\n",
    "        model_out = self.network(t.reshape(-1, 1)).squeeze()\n",
    "        y = self.y_0 + (1 - torch.exp(-t)).view(-1, 1) * model_out\n",
    "        return y"
   ]
  },
  {
   "cell_type": "code",
   "execution_count": 5,
   "metadata": {},
   "outputs": [],
   "source": [
    "model = LinearNN(1, 4, 64, 2, ODE_2_y0).to(device)\n",
    "\n",
    "# Define the Jacobian function for a single input\n",
    "def jacobian_fn(x):\n",
    "    return jacrev(model)(x)\n",
    "\n",
    "# Use vmap to compute Jacobians for each element in the batch\n",
    "batched_jacobian_fn = vmap(jacobian_fn)"
   ]
  },
  {
   "cell_type": "code",
   "execution_count": 6,
   "metadata": {},
   "outputs": [],
   "source": [
    "ODE_batch = vmap(ODE_2, in_dims=0)"
   ]
  },
  {
   "cell_type": "code",
   "execution_count": 7,
   "metadata": {},
   "outputs": [],
   "source": [
    "def loss_fn(t: torch.Tensor):\n",
    "    # INTERIOR LOSS\n",
    "    # NN grads\n",
    "    y = model(t)\n",
    "    jacobians = batched_jacobian_fn(t)\n",
    "    dydt = jacobians.squeeze(-1)\n",
    "    \n",
    "    # ODE actual grads\n",
    "    ode_grads = ODE_batch(t, y)\n",
    "    \n",
    "    loss = nn.MSELoss()\n",
    "    return loss(dydt, ode_grads)\n",
    "    "
   ]
  },
  {
   "cell_type": "code",
   "execution_count": 8,
   "metadata": {},
   "outputs": [
    {
     "name": "stderr",
     "output_type": "stream",
     "text": [
      "/home/vedo/miniconda3/envs/thesis/lib/python3.12/site-packages/torch/nn/modules/loss.py:535: UserWarning: Using a target size (torch.Size([2048, 2])) that is different to the input size (torch.Size([2048, 1, 2])). This will likely lead to incorrect results due to broadcasting. Please ensure they have the same size.\n",
      "  return F.mse_loss(input, target, reduction=self.reduction)\n"
     ]
    },
    {
     "name": "stdout",
     "output_type": "stream",
     "text": [
      "Iteration 0, Loss: 2.144108295440674\n",
      "Iteration 10, Loss: 0.31747347116470337\n",
      "Iteration 20, Loss: 0.18927140533924103\n",
      "Iteration 30, Loss: 0.1769639551639557\n",
      "Iteration 40, Loss: 0.1705317497253418\n",
      "Iteration 50, Loss: 0.1525237262248993\n",
      "Iteration 60, Loss: 0.16838034987449646\n",
      "Iteration 70, Loss: 0.13739639520645142\n",
      "Iteration 80, Loss: 0.1661221832036972\n",
      "Iteration 90, Loss: 0.15266107022762299\n",
      "Iteration 100, Loss: 0.13187605142593384\n",
      "Iteration 110, Loss: 0.14620009064674377\n",
      "Iteration 120, Loss: 0.14484119415283203\n",
      "Iteration 130, Loss: 0.1394459307193756\n",
      "Iteration 140, Loss: 0.15432977676391602\n",
      "Iteration 150, Loss: 0.15031418204307556\n",
      "Iteration 160, Loss: 0.14822451770305634\n",
      "Iteration 170, Loss: 0.1527685970067978\n",
      "Iteration 180, Loss: 0.12395092844963074\n",
      "Iteration 190, Loss: 0.13274389505386353\n",
      "Iteration 200, Loss: 0.1532345414161682\n",
      "Iteration 210, Loss: 0.14742815494537354\n",
      "Iteration 220, Loss: 0.13761921226978302\n",
      "Iteration 230, Loss: 0.15542015433311462\n",
      "Iteration 240, Loss: 0.14592784643173218\n",
      "Iteration 250, Loss: 0.14640340209007263\n",
      "Iteration 260, Loss: 0.13931921124458313\n",
      "Iteration 270, Loss: 0.14821630716323853\n",
      "Iteration 280, Loss: 0.15460577607154846\n",
      "Iteration 290, Loss: 0.13946537673473358\n",
      "Iteration 300, Loss: 0.1436602771282196\n",
      "Iteration 310, Loss: 0.1343158781528473\n",
      "Iteration 320, Loss: 0.15726687014102936\n",
      "Iteration 330, Loss: 0.13493983447551727\n",
      "Iteration 340, Loss: 0.16498969495296478\n",
      "Iteration 350, Loss: 0.15054506063461304\n",
      "Iteration 360, Loss: 0.14726880192756653\n",
      "Iteration 370, Loss: 0.14427396655082703\n",
      "Iteration 380, Loss: 0.14981892704963684\n",
      "Iteration 390, Loss: 0.15277963876724243\n",
      "Iteration 400, Loss: 0.15533924102783203\n",
      "Iteration 410, Loss: 0.13835740089416504\n",
      "Iteration 420, Loss: 0.13524363934993744\n",
      "Iteration 430, Loss: 0.15569086372852325\n",
      "Iteration 440, Loss: 0.1598663479089737\n",
      "Iteration 450, Loss: 0.13688570261001587\n",
      "Iteration 460, Loss: 0.14131605625152588\n",
      "Iteration 470, Loss: 0.14476364850997925\n",
      "Iteration 480, Loss: 0.1497359573841095\n",
      "Iteration 490, Loss: 0.1352393478155136\n",
      "Iteration 500, Loss: 0.15444107353687286\n",
      "Iteration 510, Loss: 0.14740881323814392\n",
      "Iteration 520, Loss: 0.1285143345594406\n",
      "Iteration 530, Loss: 0.1592966467142105\n",
      "Iteration 540, Loss: 0.14283470809459686\n",
      "Iteration 550, Loss: 0.14938569068908691\n",
      "Iteration 560, Loss: 0.154331237077713\n",
      "Iteration 570, Loss: 0.1528036743402481\n",
      "Iteration 580, Loss: 0.13005585968494415\n",
      "Iteration 590, Loss: 0.1491418182849884\n",
      "Iteration 600, Loss: 0.1466846764087677\n",
      "Iteration 610, Loss: 0.15485143661499023\n",
      "Iteration 620, Loss: 0.13292399048805237\n",
      "Iteration 630, Loss: 0.15333890914916992\n",
      "Iteration 640, Loss: 0.151507169008255\n",
      "Iteration 650, Loss: 0.14719343185424805\n",
      "Iteration 660, Loss: 0.13975068926811218\n",
      "Iteration 670, Loss: 0.15289348363876343\n",
      "Iteration 680, Loss: 0.15256494283676147\n",
      "Iteration 690, Loss: 0.1450192630290985\n",
      "Iteration 700, Loss: 0.14845621585845947\n",
      "Iteration 710, Loss: 0.13067176938056946\n",
      "Iteration 720, Loss: 0.14496774971485138\n",
      "Iteration 730, Loss: 0.14016008377075195\n",
      "Iteration 740, Loss: 0.1395733505487442\n",
      "Iteration 750, Loss: 0.14593832194805145\n",
      "Iteration 760, Loss: 0.15244464576244354\n",
      "Iteration 770, Loss: 0.1471175253391266\n",
      "Iteration 780, Loss: 0.15516920387744904\n",
      "Iteration 790, Loss: 0.1473826766014099\n",
      "Iteration 800, Loss: 0.12461723387241364\n",
      "Iteration 810, Loss: 0.1387559175491333\n",
      "Iteration 820, Loss: 0.13946577906608582\n",
      "Iteration 830, Loss: 0.14032673835754395\n",
      "Iteration 840, Loss: 0.1521892249584198\n",
      "Iteration 850, Loss: 0.13660019636154175\n",
      "Iteration 860, Loss: 0.14871686697006226\n",
      "Iteration 870, Loss: 0.15076285600662231\n",
      "Iteration 880, Loss: 0.1225256472826004\n",
      "Iteration 890, Loss: 0.14043918251991272\n",
      "Iteration 900, Loss: 0.14256149530410767\n",
      "Iteration 910, Loss: 0.14205338060855865\n",
      "Iteration 920, Loss: 0.15287534892559052\n",
      "Iteration 930, Loss: 0.13635925948619843\n",
      "Iteration 940, Loss: 0.1359538733959198\n",
      "Iteration 950, Loss: 0.1330670267343521\n",
      "Iteration 960, Loss: 0.13194409012794495\n",
      "Iteration 970, Loss: 0.1501183956861496\n",
      "Iteration 980, Loss: 0.15259622037410736\n",
      "Iteration 990, Loss: 0.14706480503082275\n"
     ]
    }
   ],
   "source": [
    "batch_size = 2048  # number of colocation points to sample in the domain\n",
    "num_iter = 1000  # maximum number of iterations\n",
    "learning_rate = 1e-3  # learning rate\n",
    "weight_decay = 1e-5  # weight decay\n",
    "T = 10  # final time\n",
    "\n",
    "optimzier = optim.Adam(model.parameters(), lr=learning_rate, weight_decay=weight_decay)\n",
    "\n",
    "\n",
    "for i in range(num_iter):\n",
    "    t = (torch.rand(batch_size) * T).to(device) \n",
    "    t.to(device)\n",
    "    t.requires_grad_(True)\n",
    "    \n",
    "    loss = loss_fn(t)\n",
    "    loss.backward()\n",
    "    optimzier.step()\n",
    "    optimzier.zero_grad()\n",
    "    if i % 10 == 0:\n",
    "        print(f\"Iteration {i}, Loss: {loss.item()}\")"
   ]
  },
  {
   "cell_type": "code",
   "execution_count": 9,
   "metadata": {},
   "outputs": [],
   "source": [
    "import numpy as np\n",
    "import matplotlib.pyplot as plt"
   ]
  },
  {
   "cell_type": "code",
   "execution_count": 10,
   "metadata": {},
   "outputs": [],
   "source": [
    "# Solve the ODE system numerically\n",
    "from scipy.integrate import solve_ivp"
   ]
  },
  {
   "cell_type": "code",
   "execution_count": 11,
   "metadata": {},
   "outputs": [],
   "source": [
    "def ODE_1_np(t, y):\n",
    "    dydt = ODE_1(t, y)\n",
    "    return dydt.cpu().numpy()\n",
    "\n",
    "\n",
    "def ODE_2_np(t,y):\n",
    "    dydt = ODE_2(t, y)\n",
    "    return dydt.cpu().numpy()"
   ]
  },
  {
   "cell_type": "code",
   "execution_count": 12,
   "metadata": {},
   "outputs": [],
   "source": [
    "sol = solve_ivp(ODE_2_np, (0, T), ODE_2_y0.cpu().numpy(), method='RK45', t_eval=np.linspace(0, T, 100))"
   ]
  },
  {
   "cell_type": "code",
   "execution_count": 13,
   "metadata": {},
   "outputs": [],
   "source": [
    "t = torch.linspace(0, T, 100).view(-1, 1).to(device)\n",
    "\n",
    "t_np = t.cpu().detach().numpy()\n",
    "y_pred_np = model(t).cpu().detach().numpy()\n"
   ]
  },
  {
   "cell_type": "code",
   "execution_count": 14,
   "metadata": {},
   "outputs": [
    {
     "data": {
      "image/png": "[encoded data removed]",
      "text/plain": [
       "<Figure size 640x480 with 1 Axes>"
      ]
     },
     "metadata": {},
     "output_type": "display_data"
    }
   ],
   "source": [
    "num_y = y_pred_np.shape[1]\n",
    "for i in range(num_y):\n",
    "    plt.plot(sol.t, sol.y.T[:, i], color='blue', label=f'Analytical Solution y_{i+1}')\n",
    "    plt.plot(t_np, y_pred_np[:, i], color='orange', label=f'PINN Prediction y_{i+1}')\n",
    "\n",
    "plt.xlabel('t')\n",
    "plt.ylabel('y(t)')\n",
    "plt.legend()\n",
    "plt.title('Exponential Decay: Analytical vs PINN')\n",
    "plt.show()"
   ]
  }
 ],
 "metadata": {
  "kernelspec": {
   "display_name": "thesis",
   "language": "python",
   "name": "python3"
  },
  "language_info": {
   "codemirror_mode": {
    "name": "ipython",
    "version": 3
   },
   "file_extension": ".py",
   "mimetype": "text/x-python",
   "name": "python",
   "nbconvert_exporter": "python",
   "pygments_lexer": "ipython3",
   "version": "3.12.2"
  }
 },
 "nbformat": 4,
 "nbformat_minor": 2
}
