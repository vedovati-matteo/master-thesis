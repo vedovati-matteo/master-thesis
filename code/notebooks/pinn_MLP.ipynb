{
 "cells": [
  {
   "cell_type": "markdown",
   "metadata": {},
   "source": [
    "# Multi-layer perceptrons (MLP) PINN\n",
    "from: Respecting causality is all you need for training physics-informed neural networks, Wang 2022 [https://doi.org/10.48550/arXiv.2203.07404]\n",
    "\n",
    "Modified loss function that includes weights for explicitly account for the missig casula structure of PINNs. The loss function is defined as: $$\\mathcal{L}_r(\\theta) = \\frac{1}{N_t} \\sum^{N_t}_{i=1} \\exp(-\\epsilon \\sum^{i-1}_{k=1} \\mathcal{L}_r(t_k, \\theta)) \\mathcal{L}_r(t_i, \\theta)$$ where: $$\\mathcal{L}_r(t, \\theta) = \\frac{1}{N_x} \\sum^{N_x}_{j=1} |\\frac{\\partial u_\\theta}{\\partial t} (t, x_j) + \\mathcal{N}[u_\\theta](t,x_j)|^2$$"
   ]
  },
  {
   "cell_type": "code",
   "execution_count": 1,
   "metadata": {},
   "outputs": [],
   "source": [
    "import torch.nn as nn\n",
    "import torch.optim as optim\n",
    "from torch import vmap\n",
    "from torch.func import jacrev\n",
    "import torch\n",
    "\n",
    "device = 'cuda' if torch.cuda.is_available() else 'cpu'"
   ]
  },
  {
   "cell_type": "code",
   "execution_count": 2,
   "metadata": {},
   "outputs": [],
   "source": [
    "def ODE_1(t, y): # Exponential decay\n",
    "    # y: R^1, lambda: 0.1\n",
    "    y = torch.tensor(y, dtype=torch.float32).to(device)\n",
    "    return -0.1 * y\n",
    "\n",
    "ODE_1_y0 = torch.tensor([2.0]).to(device)\n",
    "\n",
    "def ODE_2(t, y): # Van der Pol Oscillator\n",
    "    # y: R^2, mu: 2\n",
    "    if not isinstance(y, torch.Tensor):\n",
    "        y = torch.tensor(y, dtype=torch.float32).to(device)\n",
    "    \n",
    "    x = y[0]\n",
    "    dy = y[1]\n",
    "    # Parameters\n",
    "    omega = 1.0\n",
    "    zeta = 0.5\n",
    "    \n",
    "    dydt = torch.stack([dy, -omega**2 * x - 2 * zeta * omega * dy]).to(device)\n",
    "    return dydt\n",
    "\n",
    "ODE_2_y0 = torch.tensor([2.0, 0.0]).to(device)"
   ]
  },
  {
   "cell_type": "code",
   "execution_count": 3,
   "metadata": {},
   "outputs": [],
   "source": [
    "class LinearNN(nn.Module):\n",
    "    def __init__(\n",
    "        self,\n",
    "        num_inputs,\n",
    "        num_layers,\n",
    "        num_neurons,\n",
    "        num_outputs,\n",
    "        act: nn.Module = nn.Tanh(),\n",
    "    ) -> None:\n",
    "        \"\"\"Basic neural network architecture with linear layers\n",
    "        \n",
    "        Args:\n",
    "            num_inputs (int, optional): the dimensionality of the input tensor\n",
    "            num_layers (int, optional): the number of hidden layers\n",
    "            num_neurons (int, optional): the number of neurons for each hidden layer\n",
    "            act (nn.Module, optional): the non-linear activation function to use for stitching\n",
    "                linear layers togeter\n",
    "        \"\"\"\n",
    "        super().__init__()\n",
    "        \n",
    "        self.num_inputs = num_inputs\n",
    "        self.num_neurons = num_neurons\n",
    "        self.num_layers = num_layers\n",
    "\n",
    "        layers = []\n",
    "\n",
    "        # input layer\n",
    "        layers.append(nn.Linear(self.num_inputs, num_neurons))\n",
    "\n",
    "        # hidden layers with linear layer and activation\n",
    "        for _ in range(num_layers):\n",
    "            layers.extend([nn.Linear(num_neurons, num_neurons), act])\n",
    "\n",
    "        # output layer\n",
    "        layers.append(nn.Linear(num_neurons, num_outputs))\n",
    "\n",
    "        # build the network\n",
    "        self.network = nn.Sequential(*layers)\n",
    "\n",
    "    def forward(self, x: torch.Tensor) -> torch.Tensor:\n",
    "        return self.network(x.reshape(-1, 1)).squeeze()"
   ]
  },
  {
   "cell_type": "code",
   "execution_count": 4,
   "metadata": {},
   "outputs": [],
   "source": [
    "model = LinearNN(1, 4, 64, 2).to(device)\n",
    "\n",
    "# Define the Jacobian function for a single input\n",
    "def jacobian_fn(x):\n",
    "    return jacrev(model)(x)\n",
    "\n",
    "# Use vmap to compute Jacobians for each element in the batch\n",
    "batched_jacobian_fn = vmap(jacobian_fn)"
   ]
  },
  {
   "cell_type": "code",
   "execution_count": 5,
   "metadata": {},
   "outputs": [],
   "source": [
    "ODE_batch = vmap(ODE_2, in_dims=0)"
   ]
  },
  {
   "cell_type": "code",
   "execution_count": 6,
   "metadata": {},
   "outputs": [
    {
     "data": {
      "text/plain": [
       "torch.Size([1, 3])"
      ]
     },
     "execution_count": 6,
     "metadata": {},
     "output_type": "execute_result"
    }
   ],
   "source": [
    "torch.tensor([1.0, 2.0, 3.0]).view(1, -1).shape\n"
   ]
  },
  {
   "cell_type": "code",
   "execution_count": 7,
   "metadata": {},
   "outputs": [],
   "source": [
    "def loss_fn(t: torch.Tensor):\n",
    "    # BOUNDARY LOSS\n",
    "    y_0 = model(torch.tensor([0.0], requires_grad=True).to(device))\n",
    "    \n",
    "    boundary = y_0 - ODE_2_y0\n",
    "    \n",
    "    # INTERIOR LOSS\n",
    "    # NN grads\n",
    "    y = model(t)\n",
    "    jacobians = batched_jacobian_fn(t)\n",
    "    dydt = jacobians.squeeze(-1)\n",
    "    # ODE actual grads\n",
    "    ode_grads = ODE_batch(t, y)\n",
    "    interior = dydt - ode_grads\n",
    "    \n",
    "    # Combine losses\n",
    "    loss_t = torch.cat([boundary.view(1, -1), interior])\n",
    "    loss_t = (loss_t**2)\n",
    "    \n",
    "    # weights of the loss\n",
    "    epsilon = 1\n",
    "    w = torch.exp(- epsilon * (torch.cumsum(loss_t.detach(), dim=0) - loss_t.detach()))\n",
    "    \n",
    "    loss = torch.mean(w * loss_t)\n",
    "    \n",
    "    return loss, w\n",
    "    "
   ]
  },
  {
   "cell_type": "code",
   "execution_count": 8,
   "metadata": {},
   "outputs": [
    {
     "name": "stderr",
     "output_type": "stream",
     "text": [
      "/home/vedo/miniconda3/envs/thesis/lib/python3.12/site-packages/torch/autograd/graph.py:744: UserWarning: Attempting to run cuBLAS, but there was no current CUDA context! Attempting to set the primary context... (Triggered internally at /home/conda/feedstock_root/build_artifacts/libtorch_1718580740865/work/aten/src/ATen/cuda/CublasHandlePool.cpp:135.)\n",
      "  return Variable._execution_engine.run_backward(  # Calls into the C++ engine to run the backward pass\n"
     ]
    },
    {
     "name": "stdout",
     "output_type": "stream",
     "text": [
      "Iteration 0, Loss: 0.03483295068144798, Min w: 0.02305794693529606\n",
      "Iteration 10, Loss: 0.02768576517701149, Min w: 0.001655398984439671\n",
      "Iteration 20, Loss: 0.02101810835301876, Min w: 6.58140697851195e-06\n",
      "Iteration 30, Loss: 0.01726057380437851, Min w: 2.4727404152047328e-11\n",
      "Iteration 40, Loss: 0.01526185218244791, Min w: 3.336036284910857e-17\n",
      "Iteration 50, Loss: 0.014965075068175793, Min w: 2.6439170297543058e-11\n",
      "Iteration 60, Loss: 0.010865572839975357, Min w: 1.3033510185778141e-05\n",
      "Iteration 70, Loss: 0.011505861766636372, Min w: 0.12316683679819107\n",
      "Iteration 80, Loss: 0.008193496614694595, Min w: 0.38571563363075256\n",
      "Iteration 90, Loss: 0.006846609525382519, Min w: 0.5078372359275818\n",
      "Iteration 100, Loss: 0.006334792822599411, Min w: 0.5582371950149536\n",
      "Iteration 110, Loss: 0.004258521366864443, Min w: 0.6482829451560974\n",
      "Iteration 120, Loss: 0.004446012899279594, Min w: 0.7076735496520996\n",
      "Iteration 130, Loss: 0.004574665334075689, Min w: 0.6486214399337769\n",
      "Iteration 140, Loss: 0.0025385397020727396, Min w: 0.797551155090332\n",
      "Iteration 150, Loss: 0.0027016568928956985, Min w: 0.783728837966919\n",
      "Iteration 160, Loss: 0.0020477159414440393, Min w: 0.8319954872131348\n",
      "Iteration 170, Loss: 0.0021109788212925196, Min w: 0.8249349594116211\n",
      "Iteration 180, Loss: 0.002209458965808153, Min w: 0.8279806971549988\n",
      "Iteration 190, Loss: 0.001981098670512438, Min w: 0.8037893772125244\n",
      "Iteration 200, Loss: 0.0023953344207257032, Min w: 0.8270487785339355\n"
     ]
    },
    {
     "ename": "KeyboardInterrupt",
     "evalue": "",
     "output_type": "error",
     "traceback": [
      "\u001b[0;31m---------------------------------------------------------------------------\u001b[0m",
      "\u001b[0;31mKeyboardInterrupt\u001b[0m                         Traceback (most recent call last)",
      "Cell \u001b[0;32mIn[8], line 19\u001b[0m\n\u001b[1;32m     16\u001b[0m t\u001b[38;5;241m.\u001b[39mrequires_grad_(\u001b[38;5;28;01mTrue\u001b[39;00m)\n\u001b[1;32m     18\u001b[0m loss, w \u001b[38;5;241m=\u001b[39m loss_fn(t)\n\u001b[0;32m---> 19\u001b[0m \u001b[43mloss\u001b[49m\u001b[38;5;241;43m.\u001b[39;49m\u001b[43mbackward\u001b[49m\u001b[43m(\u001b[49m\u001b[43m)\u001b[49m\n\u001b[1;32m     20\u001b[0m optimzier\u001b[38;5;241m.\u001b[39mstep()\n\u001b[1;32m     21\u001b[0m optimzier\u001b[38;5;241m.\u001b[39mzero_grad()\n",
      "File \u001b[0;32m~/miniconda3/envs/thesis/lib/python3.12/site-packages/torch/_tensor.py:525\u001b[0m, in \u001b[0;36mTensor.backward\u001b[0;34m(self, gradient, retain_graph, create_graph, inputs)\u001b[0m\n\u001b[1;32m    515\u001b[0m \u001b[38;5;28;01mif\u001b[39;00m has_torch_function_unary(\u001b[38;5;28mself\u001b[39m):\n\u001b[1;32m    516\u001b[0m     \u001b[38;5;28;01mreturn\u001b[39;00m handle_torch_function(\n\u001b[1;32m    517\u001b[0m         Tensor\u001b[38;5;241m.\u001b[39mbackward,\n\u001b[1;32m    518\u001b[0m         (\u001b[38;5;28mself\u001b[39m,),\n\u001b[0;32m   (...)\u001b[0m\n\u001b[1;32m    523\u001b[0m         inputs\u001b[38;5;241m=\u001b[39minputs,\n\u001b[1;32m    524\u001b[0m     )\n\u001b[0;32m--> 525\u001b[0m \u001b[43mtorch\u001b[49m\u001b[38;5;241;43m.\u001b[39;49m\u001b[43mautograd\u001b[49m\u001b[38;5;241;43m.\u001b[39;49m\u001b[43mbackward\u001b[49m\u001b[43m(\u001b[49m\n\u001b[1;32m    526\u001b[0m \u001b[43m    \u001b[49m\u001b[38;5;28;43mself\u001b[39;49m\u001b[43m,\u001b[49m\u001b[43m \u001b[49m\u001b[43mgradient\u001b[49m\u001b[43m,\u001b[49m\u001b[43m \u001b[49m\u001b[43mretain_graph\u001b[49m\u001b[43m,\u001b[49m\u001b[43m \u001b[49m\u001b[43mcreate_graph\u001b[49m\u001b[43m,\u001b[49m\u001b[43m \u001b[49m\u001b[43minputs\u001b[49m\u001b[38;5;241;43m=\u001b[39;49m\u001b[43minputs\u001b[49m\n\u001b[1;32m    527\u001b[0m \u001b[43m\u001b[49m\u001b[43m)\u001b[49m\n",
      "File \u001b[0;32m~/miniconda3/envs/thesis/lib/python3.12/site-packages/torch/autograd/__init__.py:267\u001b[0m, in \u001b[0;36mbackward\u001b[0;34m(tensors, grad_tensors, retain_graph, create_graph, grad_variables, inputs)\u001b[0m\n\u001b[1;32m    262\u001b[0m     retain_graph \u001b[38;5;241m=\u001b[39m create_graph\n\u001b[1;32m    264\u001b[0m \u001b[38;5;66;03m# The reason we repeat the same comment below is that\u001b[39;00m\n\u001b[1;32m    265\u001b[0m \u001b[38;5;66;03m# some Python versions print out the first line of a multi-line function\u001b[39;00m\n\u001b[1;32m    266\u001b[0m \u001b[38;5;66;03m# calls in the traceback and some print out the last line\u001b[39;00m\n\u001b[0;32m--> 267\u001b[0m \u001b[43m_engine_run_backward\u001b[49m\u001b[43m(\u001b[49m\n\u001b[1;32m    268\u001b[0m \u001b[43m    \u001b[49m\u001b[43mtensors\u001b[49m\u001b[43m,\u001b[49m\n\u001b[1;32m    269\u001b[0m \u001b[43m    \u001b[49m\u001b[43mgrad_tensors_\u001b[49m\u001b[43m,\u001b[49m\n\u001b[1;32m    270\u001b[0m \u001b[43m    \u001b[49m\u001b[43mretain_graph\u001b[49m\u001b[43m,\u001b[49m\n\u001b[1;32m    271\u001b[0m \u001b[43m    \u001b[49m\u001b[43mcreate_graph\u001b[49m\u001b[43m,\u001b[49m\n\u001b[1;32m    272\u001b[0m \u001b[43m    \u001b[49m\u001b[43minputs\u001b[49m\u001b[43m,\u001b[49m\n\u001b[1;32m    273\u001b[0m \u001b[43m    \u001b[49m\u001b[43mallow_unreachable\u001b[49m\u001b[38;5;241;43m=\u001b[39;49m\u001b[38;5;28;43;01mTrue\u001b[39;49;00m\u001b[43m,\u001b[49m\n\u001b[1;32m    274\u001b[0m \u001b[43m    \u001b[49m\u001b[43maccumulate_grad\u001b[49m\u001b[38;5;241;43m=\u001b[39;49m\u001b[38;5;28;43;01mTrue\u001b[39;49;00m\u001b[43m,\u001b[49m\n\u001b[1;32m    275\u001b[0m \u001b[43m\u001b[49m\u001b[43m)\u001b[49m\n",
      "File \u001b[0;32m~/miniconda3/envs/thesis/lib/python3.12/site-packages/torch/autograd/graph.py:744\u001b[0m, in \u001b[0;36m_engine_run_backward\u001b[0;34m(t_outputs, *args, **kwargs)\u001b[0m\n\u001b[1;32m    742\u001b[0m     unregister_hooks \u001b[38;5;241m=\u001b[39m _register_logging_hooks_on_whole_graph(t_outputs)\n\u001b[1;32m    743\u001b[0m \u001b[38;5;28;01mtry\u001b[39;00m:\n\u001b[0;32m--> 744\u001b[0m     \u001b[38;5;28;01mreturn\u001b[39;00m \u001b[43mVariable\u001b[49m\u001b[38;5;241;43m.\u001b[39;49m\u001b[43m_execution_engine\u001b[49m\u001b[38;5;241;43m.\u001b[39;49m\u001b[43mrun_backward\u001b[49m\u001b[43m(\u001b[49m\u001b[43m  \u001b[49m\u001b[38;5;66;43;03m# Calls into the C++ engine to run the backward pass\u001b[39;49;00m\n\u001b[1;32m    745\u001b[0m \u001b[43m        \u001b[49m\u001b[43mt_outputs\u001b[49m\u001b[43m,\u001b[49m\u001b[43m \u001b[49m\u001b[38;5;241;43m*\u001b[39;49m\u001b[43margs\u001b[49m\u001b[43m,\u001b[49m\u001b[43m \u001b[49m\u001b[38;5;241;43m*\u001b[39;49m\u001b[38;5;241;43m*\u001b[39;49m\u001b[43mkwargs\u001b[49m\n\u001b[1;32m    746\u001b[0m \u001b[43m    \u001b[49m\u001b[43m)\u001b[49m  \u001b[38;5;66;03m# Calls into the C++ engine to run the backward pass\u001b[39;00m\n\u001b[1;32m    747\u001b[0m \u001b[38;5;28;01mfinally\u001b[39;00m:\n\u001b[1;32m    748\u001b[0m     \u001b[38;5;28;01mif\u001b[39;00m attach_logging_hooks:\n",
      "\u001b[0;31mKeyboardInterrupt\u001b[0m: "
     ]
    }
   ],
   "source": [
    "batch_size = 128  # number of colocation points to sample in the domain\n",
    "num_iter = 50000  # maximum number of iterations\n",
    "learning_rate = 1e-3  # learning rate\n",
    "weight_decay = 1e-5  # weight decay\n",
    "T = 10  # final time\n",
    "\n",
    "epsilon_list = [1e-2, 1e-1, 1e0, 1e1, 1e2]\n",
    "delta = 0.99\n",
    "\n",
    "optimzier = optim.Adam(model.parameters(), lr=learning_rate)\n",
    "\n",
    "for epsilon in epsilon_list:\n",
    "    for i in range(num_iter):\n",
    "        t = (torch.rand(batch_size) * T).to(device)\n",
    "        t, _ = torch.sort(t)\n",
    "        t.requires_grad_(True)\n",
    "        \n",
    "        loss, w = loss_fn(t)\n",
    "        loss.backward()\n",
    "        optimzier.step()\n",
    "        optimzier.zero_grad()\n",
    "        min_w = torch.min(w)\n",
    "        if i % 10 == 0:\n",
    "            print(f\"Iteration {i}, Loss: {loss.item()}, Min w: {min_w.item()}\")\n",
    "        \n",
    "        if min_w > delta:\n",
    "            print(f\"Early break at iteration {i} --------------------------------\")\n",
    "            break"
   ]
  },
  {
   "cell_type": "code",
   "execution_count": 37,
   "metadata": {},
   "outputs": [],
   "source": [
    "import numpy as np\n",
    "import matplotlib.pyplot as plt"
   ]
  },
  {
   "cell_type": "code",
   "execution_count": 38,
   "metadata": {},
   "outputs": [],
   "source": [
    "# Solve the ODE system numerically\n",
    "from scipy.integrate import solve_ivp"
   ]
  },
  {
   "cell_type": "code",
   "execution_count": 39,
   "metadata": {},
   "outputs": [],
   "source": [
    "def ODE_1_np(t, y):\n",
    "    dydt = ODE_1(t, y)\n",
    "    return dydt.cpu().numpy()\n",
    "\n",
    "\n",
    "def ODE_2_np(t,y):\n",
    "    dydt = ODE_2(t, y)\n",
    "    return dydt.cpu().numpy()"
   ]
  },
  {
   "cell_type": "code",
   "execution_count": 40,
   "metadata": {},
   "outputs": [],
   "source": [
    "sol = solve_ivp(ODE_2_np, (0, T), ODE_2_y0.cpu().numpy(), method='RK45', t_eval=np.linspace(0, T, 100))"
   ]
  },
  {
   "cell_type": "code",
   "execution_count": 41,
   "metadata": {},
   "outputs": [],
   "source": [
    "t = torch.linspace(0, T, 100).view(-1, 1).to(device)\n",
    "\n",
    "t_np = t.cpu().detach().numpy()\n",
    "y_pred_np = model(t).cpu().detach().numpy()\n"
   ]
  },
  {
   "cell_type": "code",
   "execution_count": 42,
   "metadata": {},
   "outputs": [
    {
     "data": {
      "image/png": "[encoded data removed]",
      "text/plain": [
       "<Figure size 640x480 with 1 Axes>"
      ]
     },
     "metadata": {},
     "output_type": "display_data"
    }
   ],
   "source": [
    "num_y = y_pred_np.shape[1]\n",
    "for i in range(num_y):\n",
    "    plt.plot(sol.t, sol.y.T[:, i], color='blue', label=f'Analytical Solution y_{i+1}')\n",
    "    plt.plot(t_np, y_pred_np[:, i], color='orange', label=f'PINN Prediction y_{i+1}')\n",
    "\n",
    "plt.xlabel('t')\n",
    "plt.ylabel('y(t)')\n",
    "plt.legend()\n",
    "plt.title('Exponential Decay: Analytical vs PINN')\n",
    "plt.show()"
   ]
  }
 ],
 "metadata": {
  "kernelspec": {
   "display_name": "thesis",
   "language": "python",
   "name": "python3"
  },
  "language_info": {
   "codemirror_mode": {
    "name": "ipython",
    "version": 3
   },
   "file_extension": ".py",
   "mimetype": "text/x-python",
   "name": "python",
   "nbconvert_exporter": "python",
   "pygments_lexer": "ipython3",
   "version": "3.12.2"
  }
 },
 "nbformat": 4,
 "nbformat_minor": 2
}
