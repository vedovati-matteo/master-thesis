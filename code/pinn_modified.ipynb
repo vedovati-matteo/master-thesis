{
 "cells": [
  {
   "cell_type": "code",
   "execution_count": 1,
   "metadata": {},
   "outputs": [],
   "source": [
    "import torch.nn as nn\n",
    "import torch.optim as optim\n",
    "from torch import vmap\n",
    "from torch.func import jacrev\n",
    "import torch\n",
    "\n",
    "device = 'cuda' if torch.cuda.is_available() else 'cpu'"
   ]
  },
  {
   "cell_type": "code",
   "execution_count": 2,
   "metadata": {},
   "outputs": [],
   "source": [
    "def ODE_1(t, y): # Exponential decay\n",
    "    # y: R^1, lambda: 0.1\n",
    "    y = torch.tensor(y, dtype=torch.float32).to(device)\n",
    "    return -0.1 * y\n",
    "\n",
    "ODE_1_y0 = torch.tensor([2.0]).to(device)\n",
    "\n",
    "def ODE_2(t, y): # Van der Pol Oscillator\n",
    "    # y: R^2, mu: 2\n",
    "    if not isinstance(y, torch.Tensor):\n",
    "        y = torch.tensor(y, dtype=torch.float32).to(device)\n",
    "    \n",
    "    x = y[0]\n",
    "    dy = y[1]\n",
    "    # Parameters\n",
    "    omega = 1.0\n",
    "    zeta = 0.5\n",
    "    \n",
    "    dydt = torch.stack([dy, -omega**2 * x - 2 * zeta * omega * dy]).to(device)\n",
    "    return dydt\n",
    "\n",
    "ODE_2_y0 = torch.tensor([2.0, 0.0]).to(device)"
   ]
  },
  {
   "cell_type": "code",
   "execution_count": 3,
   "metadata": {},
   "outputs": [],
   "source": [
    "def xavier_init(m):\n",
    "    if isinstance(m, nn.Linear):\n",
    "        nn.init.xavier_normal_(m.weight)\n",
    "        if m.bias is not None:\n",
    "            nn.init.zeros_(m.bias)\n",
    "\n",
    "def he_init(m):\n",
    "    if isinstance(m, nn.Linear):\n",
    "        nn.init.kaiming_normal_(m.weight, nonlinearity='relu')\n",
    "        if m.bias is not None:\n",
    "            nn.init.zeros_(m.bias)\n",
    "\n",
    "def uniform_init(m):\n",
    "    if isinstance(m, nn.Linear):\n",
    "        nn.init.uniform_(m.weight, a=-0.1, b=0.1)\n",
    "        if m.bias is not None:\n",
    "            nn.init.zeros_(m.bias)\n",
    "\n",
    "def normal_init(m):\n",
    "    if isinstance(m, nn.Linear):\n",
    "        nn.init.normal_(m.weight, mean=0.0, std=0.02)\n",
    "        if m.bias is not None:\n",
    "            nn.init.zeros_(m.bias)"
   ]
  },
  {
   "cell_type": "code",
   "execution_count": 4,
   "metadata": {},
   "outputs": [],
   "source": [
    "class LinearNN(nn.Module):\n",
    "    def __init__(\n",
    "        self,\n",
    "        num_inputs,\n",
    "        num_layers,\n",
    "        num_neurons,\n",
    "        num_outputs,\n",
    "        y_0,\n",
    "        act: nn.Module = nn.Tanh(),\n",
    "    ) -> None:\n",
    "        \"\"\"Basic neural network architecture with linear layers\n",
    "        \n",
    "        Args:\n",
    "            num_inputs (int, optional): the dimensionality of the input tensor\n",
    "            num_layers (int, optional): the number of hidden layers\n",
    "            num_neurons (int, optional): the number of neurons for each hidden layer\n",
    "            y_0 (torch.Tensor): the initial condition for the ODE\n",
    "            act (nn.Module, optional): the non-linear activation function to use for stitching\n",
    "                linear layers togeter\n",
    "        \"\"\"\n",
    "        super().__init__()\n",
    "        \n",
    "        self.num_inputs = num_inputs\n",
    "        self.num_neurons = num_neurons\n",
    "        self.num_layers = num_layers\n",
    "        \n",
    "        self.y_0 = y_0.to(device)\n",
    "\n",
    "        layers = []\n",
    "\n",
    "        # input layer\n",
    "        layers.append(nn.Linear(self.num_inputs, num_neurons))\n",
    "\n",
    "        # hidden layers with linear layer and activation\n",
    "        for _ in range(num_layers):\n",
    "            layers.extend([nn.Linear(num_neurons, num_neurons), act])\n",
    "\n",
    "        # output layer\n",
    "        layers.append(nn.Linear(num_neurons, num_outputs))\n",
    "\n",
    "        # build the network\n",
    "        self.network = nn.Sequential(*layers)\n",
    "\n",
    "    def forward(self, x: torch.Tensor) -> torch.Tensor:\n",
    "        t = x.to(device)\n",
    "        model_out = self.network(t.reshape(-1, 1)).squeeze()\n",
    "        y = self.y_0 + (1 - torch.exp(-t)).view(-1, 1) * model_out\n",
    "        return y"
   ]
  },
  {
   "cell_type": "code",
   "execution_count": 5,
   "metadata": {},
   "outputs": [],
   "source": [
    "model = LinearNN(1, 4, 64, 2, ODE_2_y0).to(device)\n",
    "\n",
    "# Define the Jacobian function for a single input\n",
    "def jacobian_fn(x):\n",
    "    return jacrev(model)(x)\n",
    "\n",
    "# Use vmap to compute Jacobians for each element in the batch\n",
    "batched_jacobian_fn = vmap(jacobian_fn)"
   ]
  },
  {
   "cell_type": "code",
   "execution_count": 6,
   "metadata": {},
   "outputs": [],
   "source": [
    "ODE_batch = vmap(ODE_2, in_dims=0)"
   ]
  },
  {
   "cell_type": "code",
   "execution_count": 7,
   "metadata": {},
   "outputs": [],
   "source": [
    "def loss_fn(t: torch.Tensor):\n",
    "    # INTERIOR LOSS\n",
    "    # NN grads\n",
    "    y = model(t)\n",
    "    jacobians = batched_jacobian_fn(t)\n",
    "    dydt = jacobians.squeeze(-1)\n",
    "    \n",
    "    # ODE actual grads\n",
    "    ode_grads = ODE_batch(t, y)\n",
    "    \n",
    "    loss = nn.MSELoss()\n",
    "    return loss(dydt, ode_grads)\n",
    "    "
   ]
  },
  {
   "cell_type": "code",
   "execution_count": 8,
   "metadata": {},
   "outputs": [
    {
     "name": "stderr",
     "output_type": "stream",
     "text": [
      "/home/vedo/miniconda3/envs/thesis/lib/python3.12/site-packages/torch/nn/modules/loss.py:535: UserWarning: Using a target size (torch.Size([128, 2])) that is different to the input size (torch.Size([128, 1, 2])). This will likely lead to incorrect results due to broadcasting. Please ensure they have the same size.\n",
      "  return F.mse_loss(input, target, reduction=self.reduction)\n"
     ]
    },
    {
     "name": "stdout",
     "output_type": "stream",
     "text": [
      "Iteration 0, Loss: 1.902032494544983\n",
      "Iteration 10, Loss: 0.15634673833847046\n",
      "Iteration 20, Loss: 0.19050028920173645\n",
      "Iteration 30, Loss: 0.14093752205371857\n",
      "Iteration 40, Loss: 0.15390963852405548\n",
      "Iteration 50, Loss: 0.17857244610786438\n",
      "Iteration 60, Loss: 0.1730637550354004\n",
      "Iteration 70, Loss: 0.13979145884513855\n",
      "Iteration 80, Loss: 0.1613234579563141\n",
      "Iteration 90, Loss: 0.13530662655830383\n",
      "Iteration 100, Loss: 0.20927321910858154\n",
      "Iteration 110, Loss: 0.1390296220779419\n",
      "Iteration 120, Loss: 0.1551087349653244\n",
      "Iteration 130, Loss: 0.18628986179828644\n",
      "Iteration 140, Loss: 0.11315783858299255\n",
      "Iteration 150, Loss: 0.104983851313591\n",
      "Iteration 160, Loss: 0.1322677880525589\n",
      "Iteration 170, Loss: 0.20226962864398956\n",
      "Iteration 180, Loss: 0.1349201202392578\n",
      "Iteration 190, Loss: 0.15213686227798462\n",
      "Iteration 200, Loss: 0.0785536840558052\n",
      "Iteration 210, Loss: 0.12996673583984375\n",
      "Iteration 220, Loss: 0.12266066670417786\n",
      "Iteration 230, Loss: 0.23208099603652954\n",
      "Iteration 240, Loss: 0.16292476654052734\n",
      "Iteration 250, Loss: 0.1525241732597351\n",
      "Iteration 260, Loss: 0.0964791402220726\n",
      "Iteration 270, Loss: 0.15507638454437256\n",
      "Iteration 280, Loss: 0.1147010549902916\n",
      "Iteration 290, Loss: 0.16400320827960968\n",
      "Iteration 300, Loss: 0.15102379024028778\n",
      "Iteration 310, Loss: 0.17473822832107544\n",
      "Iteration 320, Loss: 0.13700349628925323\n",
      "Iteration 330, Loss: 0.1860143542289734\n",
      "Iteration 340, Loss: 0.09010796248912811\n",
      "Iteration 350, Loss: 0.15710429847240448\n",
      "Iteration 360, Loss: 0.12525933980941772\n",
      "Iteration 370, Loss: 0.08044995367527008\n",
      "Iteration 380, Loss: 0.15765154361724854\n",
      "Iteration 390, Loss: 0.13975723087787628\n",
      "Iteration 400, Loss: 0.12747418880462646\n",
      "Iteration 410, Loss: 0.14147022366523743\n",
      "Iteration 420, Loss: 0.10551804304122925\n",
      "Iteration 430, Loss: 0.14297425746917725\n",
      "Iteration 440, Loss: 0.13124871253967285\n",
      "Iteration 450, Loss: 0.18121406435966492\n",
      "Iteration 460, Loss: 0.0925762951374054\n",
      "Iteration 470, Loss: 0.11745858937501907\n",
      "Iteration 480, Loss: 0.09733111411333084\n",
      "Iteration 490, Loss: 0.15172019600868225\n",
      "Iteration 500, Loss: 0.11700500547885895\n",
      "Iteration 510, Loss: 0.11231572926044464\n",
      "Iteration 520, Loss: 0.1374286264181137\n",
      "Iteration 530, Loss: 0.08373364061117172\n",
      "Iteration 540, Loss: 0.1628369688987732\n",
      "Iteration 550, Loss: 0.14476004242897034\n",
      "Iteration 560, Loss: 0.11533397436141968\n",
      "Iteration 570, Loss: 0.11336974054574966\n",
      "Iteration 580, Loss: 0.09852252900600433\n",
      "Iteration 590, Loss: 0.16365490853786469\n",
      "Iteration 600, Loss: 0.17682413756847382\n",
      "Iteration 610, Loss: 0.14953437447547913\n",
      "Iteration 620, Loss: 0.13242951035499573\n",
      "Iteration 630, Loss: 0.18321391940116882\n",
      "Iteration 640, Loss: 0.19545665383338928\n",
      "Iteration 650, Loss: 0.1838369071483612\n",
      "Iteration 660, Loss: 0.16665443778038025\n",
      "Iteration 670, Loss: 0.17270061373710632\n",
      "Iteration 680, Loss: 0.09193645417690277\n",
      "Iteration 690, Loss: 0.18344739079475403\n",
      "Iteration 700, Loss: 0.09624838829040527\n",
      "Iteration 710, Loss: 0.15682601928710938\n",
      "Iteration 720, Loss: 0.18383708596229553\n",
      "Iteration 730, Loss: 0.21016280353069305\n",
      "Iteration 740, Loss: 0.15461617708206177\n",
      "Iteration 750, Loss: 0.14572201669216156\n",
      "Iteration 760, Loss: 0.10873688012361526\n",
      "Iteration 770, Loss: 0.11242423206567764\n",
      "Iteration 780, Loss: 0.16878405213356018\n",
      "Iteration 790, Loss: 0.1855035424232483\n",
      "Iteration 800, Loss: 0.1295335590839386\n",
      "Iteration 810, Loss: 0.14651891589164734\n",
      "Iteration 820, Loss: 0.14425189793109894\n",
      "Iteration 830, Loss: 0.23962585628032684\n",
      "Iteration 840, Loss: 0.1998363733291626\n",
      "Iteration 850, Loss: 0.14213822782039642\n",
      "Iteration 860, Loss: 0.11756537854671478\n",
      "Iteration 870, Loss: 0.09984073042869568\n",
      "Iteration 880, Loss: 0.11620412766933441\n",
      "Iteration 890, Loss: 0.12576138973236084\n",
      "Iteration 900, Loss: 0.12123647332191467\n",
      "Iteration 910, Loss: 0.2202150821685791\n",
      "Iteration 920, Loss: 0.14850814640522003\n",
      "Iteration 930, Loss: 0.13886728882789612\n",
      "Iteration 940, Loss: 0.14535892009735107\n",
      "Iteration 950, Loss: 0.10062883794307709\n",
      "Iteration 960, Loss: 0.10204433649778366\n",
      "Iteration 970, Loss: 0.17757712304592133\n",
      "Iteration 980, Loss: 0.20797035098075867\n",
      "Iteration 990, Loss: 0.16158686578273773\n"
     ]
    }
   ],
   "source": [
    "batch_size = 128  # number of colocation points to sample in the domain\n",
    "num_iter = 1000  # maximum number of iterations\n",
    "learning_rate = 1e-2  # learning rate\n",
    "weight_decay = 1e-5  # weight decay\n",
    "T = 10  # final time\n",
    "\n",
    "optimzier = optim.Adam(model.parameters(), lr=learning_rate, weight_decay=weight_decay)\n",
    "\n",
    "\n",
    "for i in range(num_iter):\n",
    "    t = (torch.rand(batch_size) * T).to(device) \n",
    "    t.to(device)\n",
    "    t.requires_grad_(True)\n",
    "    \n",
    "    loss = loss_fn(t)\n",
    "    loss.backward()\n",
    "    optimzier.step()\n",
    "    optimzier.zero_grad()\n",
    "    if i % 10 == 0:\n",
    "        print(f\"Iteration {i}, Loss: {loss.item()}\")"
   ]
  },
  {
   "cell_type": "code",
   "execution_count": 9,
   "metadata": {},
   "outputs": [],
   "source": [
    "import numpy as np\n",
    "import matplotlib.pyplot as plt"
   ]
  },
  {
   "cell_type": "code",
   "execution_count": 10,
   "metadata": {},
   "outputs": [],
   "source": [
    "# Solve the ODE system numerically\n",
    "from scipy.integrate import solve_ivp"
   ]
  },
  {
   "cell_type": "code",
   "execution_count": 11,
   "metadata": {},
   "outputs": [],
   "source": [
    "def ODE_1_np(t, y):\n",
    "    dydt = ODE_1(t, y)\n",
    "    return dydt.cpu().numpy()\n",
    "\n",
    "\n",
    "def ODE_2_np(t,y):\n",
    "    dydt = ODE_2(t, y)\n",
    "    return dydt.cpu().numpy()"
   ]
  },
  {
   "cell_type": "code",
   "execution_count": 12,
   "metadata": {},
   "outputs": [],
   "source": [
    "sol = solve_ivp(ODE_2_np, (0, T), ODE_2_y0.cpu().numpy(), method='RK45', t_eval=np.linspace(0, T, 100))"
   ]
  },
  {
   "cell_type": "code",
   "execution_count": 13,
   "metadata": {},
   "outputs": [],
   "source": [
    "t = torch.linspace(0, T, 100).view(-1, 1).to(device)\n",
    "\n",
    "t_np = t.cpu().detach().numpy()\n",
    "y_pred_np = model(t).cpu().detach().numpy()\n"
   ]
  },
  {
   "cell_type": "code",
   "execution_count": 14,
   "metadata": {},
   "outputs": [
    {
     "data": {
      "image/png": "[encoded data removed]",
      "text/plain": [
       "<Figure size 640x480 with 1 Axes>"
      ]
     },
     "metadata": {},
     "output_type": "display_data"
    }
   ],
   "source": [
    "num_y = y_pred_np.shape[1]\n",
    "for i in range(num_y):\n",
    "    plt.plot(sol.t, sol.y.T[:, i], color='blue', label=f'Analytical Solution y_{i+1}')\n",
    "    plt.plot(t_np, y_pred_np[:, i], color='orange', label=f'PINN Prediction y_{i+1}')\n",
    "\n",
    "plt.xlabel('t')\n",
    "plt.ylabel('y(t)')\n",
    "plt.legend()\n",
    "plt.title('Exponential Decay: Analytical vs PINN')\n",
    "plt.show()"
   ]
  }
 ],
 "metadata": {
  "kernelspec": {
   "display_name": "thesis",
   "language": "python",
   "name": "python3"
  },
  "language_info": {
   "codemirror_mode": {
    "name": "ipython",
    "version": 3
   },
   "file_extension": ".py",
   "mimetype": "text/x-python",
   "name": "python",
   "nbconvert_exporter": "python",
   "pygments_lexer": "ipython3",
   "version": "3.12.2"
  }
 },
 "nbformat": 4,
 "nbformat_minor": 2
}
